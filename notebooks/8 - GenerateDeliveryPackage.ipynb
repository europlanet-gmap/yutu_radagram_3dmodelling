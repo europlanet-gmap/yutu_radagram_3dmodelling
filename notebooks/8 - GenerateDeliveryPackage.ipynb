{
 "cells": [
  {
   "cell_type": "code",
   "execution_count": 49,
   "metadata": {},
   "outputs": [
    {
     "name": "stdout",
     "output_type": "stream",
     "text": [
      "Populating the interactive namespace from numpy and matplotlib\n"
     ]
    },
    {
     "name": "stderr",
     "output_type": "stream",
     "text": [
      "/usr/lib/python3.8/site-packages/IPython/core/magics/pylab.py:159: UserWarning: pylab import has clobbered these variables: ['exp', 'inf', 'asarray', 'flag', 'zipf', 'f']\n",
      "`%matplotlib` prevents importing * from pylab and numpy\n",
      "  warn(\"pylab import has clobbered these variables: %s\"  % clobbered +\n"
     ]
    }
   ],
   "source": [
    "%pylab inline\n",
    "from smalllib import ff, of\n",
    "import shutil"
   ]
  },
  {
   "cell_type": "code",
   "execution_count": 50,
   "metadata": {},
   "outputs": [],
   "source": [
    "import attr\n",
    "\n",
    "@attr.attrs\n",
    "class ArchivableFile:\n",
    "    filename = attr.ib()\n",
    "    extend_to_aux = attr.ib(default=False)\n",
    "    group = attr.ib(default=None)\n",
    "    rename_to= attr.ib(default=None)\n",
    "    is_aux = attr.ib(default=False)\n",
    "    \n",
    "    "
   ]
  },
  {
   "cell_type": "code",
   "execution_count": 51,
   "metadata": {},
   "outputs": [],
   "source": [
    "files = [ArchivableFile(of(\"crater_cropped_dem_textured.obj\"), True , \"model/meshes\"),\n",
    "        ArchivableFile(of(\"radargram.obj\"), True , \"model/meshes\")]"
   ]
  },
  {
   "cell_type": "code",
   "execution_count": 52,
   "metadata": {},
   "outputs": [],
   "source": [
    "for i in [0,1,2]:\n",
    "    files.append(ArchivableFile(of(f\"tube_{i}.obj\"), False, \"model/meshes\", f\"plane_topography_intersection_horizon_{i}.obj\"))\n",
    "    \n",
    "for i in [0,1,2]:\n",
    "    files.append(ArchivableFile(of(f\"large_plane_{i}.obj\"), False, \"model/meshes\", f\"modelled_horizon_{i}.obj\"))"
   ]
  },
  {
   "cell_type": "code",
   "execution_count": 53,
   "metadata": {},
   "outputs": [],
   "source": [
    "vectors = [[\"prediction.gpkg\", \"predicted_intersections.gpkg\"],\n",
    "          [\"horizons.gpkg\",\"horizons_2.5D.gpkg\"],\n",
    "          [\"path.gpkg\",\"yutu_path_gereferenced.gpkg\"]]\n",
    "\n",
    "rasters = [[\"path_georef.tif\", \"xiao_georeferenced.tif\"]]"
   ]
  },
  {
   "cell_type": "code",
   "execution_count": 54,
   "metadata": {},
   "outputs": [],
   "source": [
    "for inf, out in vectors:\n",
    "    files.append(ArchivableFile(of(inf), False, \"vector\", out))\n",
    "    \n",
    "for inf, out in rasters:\n",
    "    files.append(ArchivableFile(of(inf), False, \"raster\", out))\n",
    "    \n",
    "    \n",
    "files.append(ArchivableFile(\"../package_README.md\", False, \"\", f\"README.md\"))"
   ]
  },
  {
   "cell_type": "code",
   "execution_count": 55,
   "metadata": {},
   "outputs": [],
   "source": [
    "out_folder = \"../PM-MOO-D-YutuGPR\"\n",
    "import os\n",
    "os.makedirs(out_folder, exist_ok=True)\n"
   ]
  },
  {
   "cell_type": "code",
   "execution_count": 56,
   "metadata": {},
   "outputs": [],
   "source": [
    "import glob"
   ]
  },
  {
   "cell_type": "code",
   "execution_count": 57,
   "metadata": {},
   "outputs": [
    {
     "name": "stdout",
     "output_type": "stream",
     "text": [
      "crater_cropped_dem_textured.obj\n",
      "/home/luca/data/Code/yutu_radagram_3dmodelling.git/output\n",
      "['/home/luca/data/Code/yutu_radagram_3dmodelling.git/output/crater_cropped_dem_textured.mtl', '/home/luca/data/Code/yutu_radagram_3dmodelling.git/output/crater_cropped_dem_textured.png']\n",
      "radargram.obj\n",
      "/home/luca/data/Code/yutu_radagram_3dmodelling.git/output\n",
      "['/home/luca/data/Code/yutu_radagram_3dmodelling.git/output/radargram.png', '/home/luca/data/Code/yutu_radagram_3dmodelling.git/output/radargram.vtp', '/home/luca/data/Code/yutu_radagram_3dmodelling.git/output/radargram.mtl']\n"
     ]
    }
   ],
   "source": [
    "auxes = []\n",
    "exclude_exts = [\".vtp\"]\n",
    "for f in files:\n",
    "#     print(f.filename)\n",
    "    \n",
    "    if f.extend_to_aux:\n",
    "        basename = os.path.basename(f.filename)\n",
    "        print(basename)\n",
    "        path = os.path.dirname(f.filename)\n",
    "        print(path)\n",
    "        noextname = os.path.splitext(basename)[0]\n",
    "        aux = glob.glob(f\"{path}/{noextname}.*\")\n",
    "        \n",
    "        aux.remove(f.filename)\n",
    "        for au in aux:\n",
    "            skip=False\n",
    "            for ex in exclude_exts:\n",
    "                if au.endswith(ex):\n",
    "                    skip = True\n",
    "                    \n",
    "            if skip:\n",
    "                continue\n",
    "            from copy import deepcopy\n",
    "            newf = deepcopy(f)\n",
    "            newf.filename =au\n",
    "            newf.extend_to_aux = False\n",
    "            newf.is_aux = True\n",
    "            auxes.append(newf)\n",
    "            \n",
    "        print(aux)\n",
    "\n",
    "        \n",
    "files += auxes"
   ]
  },
  {
   "cell_type": "code",
   "execution_count": 58,
   "metadata": {},
   "outputs": [
    {
     "name": "stdout",
     "output_type": "stream",
     "text": [
      "Processing /home/luca/data/Code/yutu_radagram_3dmodelling.git/output/crater_cropped_dem_textured.obj AUX: [False]\n",
      "oufolder will be ../PM-MOO-D-YutuGPR/model/meshes/\n",
      "outfile crater_cropped_dem_textured.obj\n",
      "expected output ../PM-MOO-D-YutuGPR/model/meshes/crater_cropped_dem_textured.obj\n",
      "\n",
      "Processing /home/luca/data/Code/yutu_radagram_3dmodelling.git/output/radargram.obj AUX: [False]\n",
      "oufolder will be ../PM-MOO-D-YutuGPR/model/meshes/\n",
      "outfile radargram.obj\n",
      "expected output ../PM-MOO-D-YutuGPR/model/meshes/radargram.obj\n",
      "\n",
      "Processing /home/luca/data/Code/yutu_radagram_3dmodelling.git/output/tube_0.obj AUX: [False]\n",
      "oufolder will be ../PM-MOO-D-YutuGPR/model/meshes/\n",
      "outfile plane_topography_intersection_horizon_0.obj\n",
      "expected output ../PM-MOO-D-YutuGPR/model/meshes/plane_topography_intersection_horizon_0.obj\n",
      "\n",
      "Processing /home/luca/data/Code/yutu_radagram_3dmodelling.git/output/tube_1.obj AUX: [False]\n",
      "oufolder will be ../PM-MOO-D-YutuGPR/model/meshes/\n",
      "outfile plane_topography_intersection_horizon_1.obj\n",
      "expected output ../PM-MOO-D-YutuGPR/model/meshes/plane_topography_intersection_horizon_1.obj\n",
      "\n",
      "Processing /home/luca/data/Code/yutu_radagram_3dmodelling.git/output/tube_2.obj AUX: [False]\n",
      "oufolder will be ../PM-MOO-D-YutuGPR/model/meshes/\n",
      "outfile plane_topography_intersection_horizon_2.obj\n",
      "expected output ../PM-MOO-D-YutuGPR/model/meshes/plane_topography_intersection_horizon_2.obj\n",
      "\n",
      "Processing /home/luca/data/Code/yutu_radagram_3dmodelling.git/output/large_plane_0.obj AUX: [False]\n",
      "oufolder will be ../PM-MOO-D-YutuGPR/model/meshes/\n",
      "outfile modelled_horizon_0.obj\n",
      "expected output ../PM-MOO-D-YutuGPR/model/meshes/modelled_horizon_0.obj\n",
      "\n",
      "Processing /home/luca/data/Code/yutu_radagram_3dmodelling.git/output/large_plane_1.obj AUX: [False]\n",
      "oufolder will be ../PM-MOO-D-YutuGPR/model/meshes/\n",
      "outfile modelled_horizon_1.obj\n",
      "expected output ../PM-MOO-D-YutuGPR/model/meshes/modelled_horizon_1.obj\n",
      "\n",
      "Processing /home/luca/data/Code/yutu_radagram_3dmodelling.git/output/large_plane_2.obj AUX: [False]\n",
      "oufolder will be ../PM-MOO-D-YutuGPR/model/meshes/\n",
      "outfile modelled_horizon_2.obj\n",
      "expected output ../PM-MOO-D-YutuGPR/model/meshes/modelled_horizon_2.obj\n",
      "\n",
      "Processing /home/luca/data/Code/yutu_radagram_3dmodelling.git/output/prediction.gpkg AUX: [False]\n",
      "oufolder will be ../PM-MOO-D-YutuGPR/vector/\n",
      "outfile predicted_intersections.gpkg\n",
      "expected output ../PM-MOO-D-YutuGPR/vector/predicted_intersections.gpkg\n",
      "\n",
      "Processing /home/luca/data/Code/yutu_radagram_3dmodelling.git/output/horizons.gpkg AUX: [False]\n",
      "oufolder will be ../PM-MOO-D-YutuGPR/vector/\n",
      "outfile horizons_2.5D.gpkg\n",
      "expected output ../PM-MOO-D-YutuGPR/vector/horizons_2.5D.gpkg\n",
      "\n",
      "Processing /home/luca/data/Code/yutu_radagram_3dmodelling.git/output/path.gpkg AUX: [False]\n",
      "oufolder will be ../PM-MOO-D-YutuGPR/vector/\n",
      "outfile yutu_path_gereferenced.gpkg\n",
      "expected output ../PM-MOO-D-YutuGPR/vector/yutu_path_gereferenced.gpkg\n",
      "\n",
      "Processing /home/luca/data/Code/yutu_radagram_3dmodelling.git/output/path_georef.tif AUX: [False]\n",
      "oufolder will be ../PM-MOO-D-YutuGPR/raster/\n",
      "outfile xiao_georeferenced.tif\n",
      "expected output ../PM-MOO-D-YutuGPR/raster/xiao_georeferenced.tif\n",
      "\n",
      "Processing ../package_README.md AUX: [False]\n",
      "oufolder will be ../PM-MOO-D-YutuGPR//\n",
      "outfile README.md\n",
      "expected output ../PM-MOO-D-YutuGPR//README.md\n",
      "\n",
      "Processing /home/luca/data/Code/yutu_radagram_3dmodelling.git/output/crater_cropped_dem_textured.mtl AUX: [True]\n",
      "oufolder will be ../PM-MOO-D-YutuGPR/model/meshes/\n",
      "outfile crater_cropped_dem_textured.mtl\n",
      "expected output ../PM-MOO-D-YutuGPR/model/meshes/crater_cropped_dem_textured.mtl\n",
      "\n",
      "Processing /home/luca/data/Code/yutu_radagram_3dmodelling.git/output/crater_cropped_dem_textured.png AUX: [True]\n",
      "oufolder will be ../PM-MOO-D-YutuGPR/model/meshes/\n",
      "outfile crater_cropped_dem_textured.png\n",
      "expected output ../PM-MOO-D-YutuGPR/model/meshes/crater_cropped_dem_textured.png\n",
      "\n",
      "Processing /home/luca/data/Code/yutu_radagram_3dmodelling.git/output/radargram.png AUX: [True]\n",
      "oufolder will be ../PM-MOO-D-YutuGPR/model/meshes/\n",
      "outfile radargram.png\n",
      "expected output ../PM-MOO-D-YutuGPR/model/meshes/radargram.png\n",
      "\n",
      "Processing /home/luca/data/Code/yutu_radagram_3dmodelling.git/output/radargram.mtl AUX: [True]\n",
      "oufolder will be ../PM-MOO-D-YutuGPR/model/meshes/\n",
      "outfile radargram.mtl\n",
      "expected output ../PM-MOO-D-YutuGPR/model/meshes/radargram.mtl\n",
      "\n"
     ]
    }
   ],
   "source": [
    "for f in files:\n",
    "    flag = f\"AUX: [{f.is_aux}]\"\n",
    "    print(f\"Processing {f.filename} {flag}\")\n",
    "    \n",
    "    if not os.path.exists(f.filename):\n",
    "        print(\"File do not exist. aboorting\")\n",
    "        break\n",
    "        \n",
    "    outf = out_folder + f\"/{f.group}/\"\n",
    "    print(f\"oufolder will be {outf}\" )\n",
    "    if f.rename_to is not None:\n",
    "        outfile = f.rename_to\n",
    "    else:\n",
    "        outfile = os.path.basename(f.filename)\n",
    "        \n",
    "    print(f\"outfile {outfile}\")\n",
    "    os.makedirs(outf, exist_ok=True)\n",
    "    fullout = os.path.join(outf, outfile)\n",
    "    \n",
    "    shutil.copy2(f.filename, fullout)\n",
    "    print(f\"expected output {fullout}\\n\")\n",
    "        \n",
    "    "
   ]
  },
  {
   "cell_type": "markdown",
   "metadata": {},
   "source": [
    "# some info to use in the package readme"
   ]
  },
  {
   "cell_type": "code",
   "execution_count": 59,
   "metadata": {},
   "outputs": [],
   "source": [
    "bounds = \"../images/crater_bounds.gpkg\"\n",
    "import geopandas as gpd\n",
    "ext = gpd.read_file(bounds)"
   ]
  },
  {
   "cell_type": "code",
   "execution_count": 60,
   "metadata": {},
   "outputs": [
    {
     "name": "stdout",
     "output_type": "stream",
     "text": [
      "        minx       miny      maxx       maxy\n",
      "0 -19.536877  44.113296 -19.50931  44.128802\n"
     ]
    }
   ],
   "source": [
    "aslatlon = ext.to_crs(\"ESRI:104903\")\n",
    "print(aslatlon.bounds)\n",
    "asarray = np.array(aslatlon.bounds)[0]\n",
    "minlon, minlat, maxlon, maxlat = asarray"
   ]
  },
  {
   "cell_type": "code",
   "execution_count": 61,
   "metadata": {},
   "outputs": [],
   "source": [
    "if minlon < 0:\n",
    "    minlon = 360 +minlon\n",
    "    \n",
    "if maxlon <0:\n",
    "    maxlon = 360+maxlon"
   ]
  },
  {
   "cell_type": "code",
   "execution_count": 62,
   "metadata": {},
   "outputs": [
    {
     "name": "stdout",
     "output_type": "stream",
     "text": [
      "340.4631232287061 44.11329617834599 340.4906900727858 44.128801823072436\n"
     ]
    }
   ],
   "source": [
    "print(minlon, minlat, maxlon, maxlat)"
   ]
  },
  {
   "cell_type": "code",
   "execution_count": 63,
   "metadata": {},
   "outputs": [],
   "source": [
    "def decdeg2dms(dd):\n",
    "    mnt,sec = divmod(dd*3600,60)\n",
    "    deg,mnt = divmod(mnt,60)\n",
    "    return deg,mnt,sec\n",
    "\n",
    "def format_degs(d,m,s):\n",
    "    return f\"{int(d)}d{int(m)}\" + \"'\" +\"{:.2f}\\\"\".format(s)"
   ]
  },
  {
   "cell_type": "code",
   "execution_count": 64,
   "metadata": {},
   "outputs": [
    {
     "name": "stdout",
     "output_type": "stream",
     "text": [
      "-20d27'47.24\"\n",
      "44d6'47.87\"\n",
      "-20d29'26.48\"\n",
      "44d7'43.69\"\n"
     ]
    }
   ],
   "source": [
    "exp = [format_degs(*decdeg2dms(val)) for val in asarray]\n",
    "[print(ex) for ex in exp];"
   ]
  },
  {
   "cell_type": "code",
   "execution_count": 65,
   "metadata": {},
   "outputs": [],
   "source": [
    "cs = ext.crs"
   ]
  },
  {
   "cell_type": "code",
   "execution_count": 66,
   "metadata": {},
   "outputs": [
    {
     "name": "stderr",
     "output_type": "stream",
     "text": [
      "<ipython-input-66-af9c76a80d2d>:1: UserWarning: You will likely lose important projection information when converting to a PROJ string from another format. See: https://proj.org/faq.html#what-is-the-best-format-for-describing-coordinate-reference-systems\n",
      "  cs.to_proj4()\n"
     ]
    },
    {
     "data": {
      "text/plain": [
       "'+proj=eqc +lat_ts=44 +lat_0=0 +lon_0=180 +x_0=0 +y_0=0 +R=1737400 +units=m +no_defs +type=crs'"
      ]
     },
     "execution_count": 66,
     "metadata": {},
     "output_type": "execute_result"
    }
   ],
   "source": [
    "cs.to_proj4()"
   ]
  },
  {
   "cell_type": "markdown",
   "metadata": {},
   "source": [
    "# Compress everything"
   ]
  },
  {
   "cell_type": "code",
   "execution_count": 67,
   "metadata": {},
   "outputs": [
    {
     "name": "stdout",
     "output_type": "stream",
     "text": [
      "../PM-MOO-D-YutuGPR\n",
      "../PM-MOO-D-YutuGPR/model\n",
      "../PM-MOO-D-YutuGPR/model/meshes\n",
      "../PM-MOO-D-YutuGPR/raster\n",
      "../PM-MOO-D-YutuGPR/vector\n"
     ]
    }
   ],
   "source": [
    "import os\n",
    "import zipfile\n",
    "\n",
    "def zipdir(path, ziph):\n",
    "    # ziph is zipfile handle\n",
    "    for root, dirs, files in os.walk(path):\n",
    "        print(root)\n",
    "        for file in files:\n",
    "            fullpath = os.path.join(root, file)\n",
    "            ziph.write(fullpath, arcname=fullpath[len(out_folder) :])\n",
    "\n",
    "zipf = zipfile.ZipFile(f\"{out_folder}.zip\", 'w', zipfile.ZIP_DEFLATED)\n",
    "zipdir(out_folder, zipf)\n",
    "zipf.close()"
   ]
  },
  {
   "cell_type": "code",
   "execution_count": null,
   "metadata": {},
   "outputs": [],
   "source": []
  }
 ],
 "metadata": {
  "jupytext": {
   "cell_metadata_filter": "all",
   "notebook_metadata_filter": "all,-language_info",
   "text_representation": {
    "extension": ".py",
    "format_name": "percent",
    "format_version": "1.3",
    "jupytext_version": "1.5.2"
   }
  },
  "kernelspec": {
   "display_name": "Python 3",
   "language": "python",
   "name": "python3"
  },
  "language_info": {
   "codemirror_mode": {
    "name": "ipython",
    "version": 3
   },
   "file_extension": ".py",
   "mimetype": "text/x-python",
   "name": "python",
   "nbconvert_exporter": "python",
   "pygments_lexer": "ipython3",
   "version": "3.8.5"
  }
 },
 "nbformat": 4,
 "nbformat_minor": 4
}
