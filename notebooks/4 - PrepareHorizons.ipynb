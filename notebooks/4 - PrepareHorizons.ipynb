{
 "cells": [
  {
   "cell_type": "code",
   "execution_count": 1,
   "metadata": {},
   "outputs": [
    {
     "name": "stdout",
     "output_type": "stream",
     "text": [
      "Populating the interactive namespace from numpy and matplotlib\n"
     ]
    }
   ],
   "source": [
    "%pylab inline\n",
    "import rasterio\n",
    "\n",
    "from smalllib import *"
   ]
  },
  {
   "cell_type": "markdown",
   "metadata": {},
   "source": [
    "We now want to cross this information with the available DEM to estimate the elevation along the horizons, which are needed to correct the absolute vertical positioning of the horizons, which are measured from the surface. Notice this is not clear from the papers, we will assume so, givig the oppurtinuty to see how to perform this correction.\n",
    "This step it might not be striclty necessary for a small area like the onw investigated by Chang'e III Yutu rover"
   ]
  },
  {
   "cell_type": "markdown",
   "metadata": {},
   "source": [
    "Load the data we need:"
   ]
  },
  {
   "cell_type": "code",
   "execution_count": 2,
   "metadata": {},
   "outputs": [],
   "source": [
    "horizons_f = of(\"horizons.npz\")\n",
    "hs = np.load(horizons_f, allow_pickle=True)[\"arr_0\"].tolist()\n",
    "dem_f  = \"../rasters/NAC_DTM_CHANGE3.TIF\"\n",
    "dem = rasterio.open(dem_f)"
   ]
  },
  {
   "cell_type": "markdown",
   "metadata": {},
   "source": [
    "# crop the raster to a meaningful region\n",
    "We first determine the boundaries for the region we are dealing with"
   ]
  },
  {
   "cell_type": "code",
   "execution_count": null,
   "metadata": {},
   "outputs": [],
   "source": []
  },
  {
   "cell_type": "code",
   "execution_count": 3,
   "metadata": {
    "lines_to_next_cell": 2
   },
   "outputs": [],
   "source": [
    "# estimate the bounding box\n",
    "mi = np.min(hs[0][:,:2],axis=0)\n",
    "ma = np.max(hs[0][:,:2],axis=0)"
   ]
  },
  {
   "cell_type": "code",
   "execution_count": 4,
   "metadata": {
    "lines_to_next_cell": 2
   },
   "outputs": [],
   "source": [
    "# mi = np.array([minx, miny]) # lower left corner\n",
    "# ma = np.array([maxx, maxy]) # upper right corner\n",
    "\n",
    "enlarge = 3 # enlarge the region of this size in m to have also the sourrandings\n",
    "\n",
    "mi -= np.ones(2) * enlarge\n",
    "ma += np.ones(2) * enlarge\n",
    "\n",
    "# we also save this data to file for any future use\n",
    "bb = np.array([*mi, *ma])\n",
    "np.savetxt(of(\"region.txt\"), bb)"
   ]
  },
  {
   "cell_type": "code",
   "execution_count": 5,
   "metadata": {},
   "outputs": [
    {
     "data": {
      "text/plain": [
       "<matplotlib.image.AxesImage at 0x7f2412088e50>"
      ]
     },
     "execution_count": 5,
     "metadata": {},
     "output_type": "execute_result"
    },
    {
     "data": {
      "image/png": "[encoded data removed]",
      "text/plain": [
       "<Figure size 432x288 with 1 Axes>"
      ]
     },
     "metadata": {
      "needs_background": "light"
     },
     "output_type": "display_data"
    }
   ],
   "source": [
    "out_img, new_meta = crop_raster_rectangle(dem, mi, ma, of(\"cropped_dem.tif\"))\n",
    "imshow(out_img[0])"
   ]
  },
  {
   "cell_type": "markdown",
   "metadata": {},
   "source": [
    "# Upscale the raster\n",
    "This is also not striclty necessary, but is useful to smooth out elevation values on such low-res raster, it would be better to higher resolution data, but it is not freely available"
   ]
  },
  {
   "cell_type": "code",
   "execution_count": 6,
   "metadata": {},
   "outputs": [],
   "source": [
    "dem = rasterio.open(of(\"cropped_dem.tif\"))"
   ]
  },
  {
   "cell_type": "code",
   "execution_count": 7,
   "metadata": {},
   "outputs": [],
   "source": [
    "upscale_factor=5 # split each pixel in 25"
   ]
  },
  {
   "cell_type": "code",
   "execution_count": 8,
   "metadata": {},
   "outputs": [
    {
     "data": {
      "text/plain": [
       "<matplotlib.image.AxesImage at 0x7f2411f7a9d0>"
      ]
     },
     "execution_count": 8,
     "metadata": {},
     "output_type": "execute_result"
    },
    {
     "data": {
      "image/png": "[encoded data removed]",
      "text/plain": [
       "<Figure size 432x288 with 1 Axes>"
      ]
     },
     "metadata": {
      "needs_background": "light"
     },
     "output_type": "display_data"
    }
   ],
   "source": [
    "up, newmeta = upsample_raster(dem, of(\"cropped_dem_up.tif\"))\n",
    "imshow(up[0])"
   ]
  },
  {
   "cell_type": "markdown",
   "metadata": {},
   "source": [
    "# Sample elevation values"
   ]
  },
  {
   "cell_type": "markdown",
   "metadata": {},
   "source": [
    "we can now use the upscaled dem for estimating elevations along the path"
   ]
  },
  {
   "cell_type": "code",
   "execution_count": 9,
   "metadata": {},
   "outputs": [],
   "source": [
    "dem = rasterio.open(of(\"cropped_dem_up.tif\")) # reopen the dem"
   ]
  },
  {
   "cell_type": "code",
   "execution_count": 10,
   "metadata": {},
   "outputs": [],
   "source": [
    "from smalllib import sampleRasterAtPoints # some methods are in this small module, have a look at that for doc"
   ]
  },
  {
   "cell_type": "code",
   "execution_count": 11,
   "metadata": {},
   "outputs": [],
   "source": [
    "import geopandas as gpd\n",
    "from shapely.geometry import Point\n",
    "\n",
    "tables = [] # we will create a geopandas table for each horizon\n",
    "\n",
    "for hor in hs: # we are repeating for each horizon, they have different nodes\n",
    "    tab = gpd.GeoDataFrame()\n",
    "    \n",
    "    elevations = sampleRasterAtPoints(dem, hor[:,:2]) # sample elevations\n",
    "    \n",
    "    points = [Point(x,y,z+el) for (x,y,z), el in zip(hor, elevations)] # create the points, notice we are adding the computed elevations to z\n",
    "    tab.geometry = points # and use them as geometry\n",
    "    tab[\"surface_elevation\"] = elevations\n",
    "    tab[\"original_z\"] = hor[:,2]\n",
    "    tables.append(tab)\n",
    "    \n"
   ]
  },
  {
   "cell_type": "code",
   "execution_count": 12,
   "metadata": {},
   "outputs": [
    {
     "data": {
      "text/plain": [
       "<AxesSubplot:>"
      ]
     },
     "execution_count": 12,
     "metadata": {},
     "output_type": "execute_result"
    },
    {
     "data": {
      "image/png": "[encoded data removed]",
      "text/plain": [
       "<Figure size 432x288 with 1 Axes>"
      ]
     },
     "metadata": {
      "needs_background": "light"
     },
     "output_type": "display_data"
    }
   ],
   "source": [
    "# see the last table we generated, just for reference\n",
    "tab.plot()"
   ]
  },
  {
   "cell_type": "code",
   "execution_count": 13,
   "metadata": {},
   "outputs": [
    {
     "data": {
      "text/html": [
       "<div>\n",
       "<style scoped>\n",
       "    .dataframe tbody tr th:only-of-type {\n",
       "        vertical-align: middle;\n",
       "    }\n",
       "\n",
       "    .dataframe tbody tr th {\n",
       "        vertical-align: top;\n",
       "    }\n",
       "\n",
       "    .dataframe thead th {\n",
       "        text-align: right;\n",
       "    }\n",
       "</style>\n",
       "<table border=\"1\" class=\"dataframe\">\n",
       "  <thead>\n",
       "    <tr style=\"text-align: right;\">\n",
       "      <th></th>\n",
       "      <th>geometry</th>\n",
       "      <th>surface_elevation</th>\n",
       "      <th>original_z</th>\n",
       "    </tr>\n",
       "  </thead>\n",
       "  <tbody>\n",
       "    <tr>\n",
       "      <th>0</th>\n",
       "      <td>POINT Z (3500715.048 1337901.221 -2633.159)</td>\n",
       "      <td>-2627.809082</td>\n",
       "      <td>-5.349957</td>\n",
       "    </tr>\n",
       "    <tr>\n",
       "      <th>1</th>\n",
       "      <td>POINT Z (3500715.343 1337899.490 -2633.103)</td>\n",
       "      <td>-2627.804199</td>\n",
       "      <td>-5.298919</td>\n",
       "    </tr>\n",
       "    <tr>\n",
       "      <th>2</th>\n",
       "      <td>POINT Z (3500715.546 1337897.422 -2633.086)</td>\n",
       "      <td>-2627.805908</td>\n",
       "      <td>-5.279779</td>\n",
       "    </tr>\n",
       "    <tr>\n",
       "      <th>3</th>\n",
       "      <td>POINT Z (3500715.447 1337894.934 -2633.163)</td>\n",
       "      <td>-2627.819580</td>\n",
       "      <td>-5.343577</td>\n",
       "    </tr>\n",
       "    <tr>\n",
       "      <th>4</th>\n",
       "      <td>POINT Z (3500715.349 1337893.253 -2633.170)</td>\n",
       "      <td>-2627.826660</td>\n",
       "      <td>-5.343577</td>\n",
       "    </tr>\n",
       "  </tbody>\n",
       "</table>\n",
       "</div>"
      ],
      "text/plain": [
       "                                      geometry  surface_elevation  original_z\n",
       "0  POINT Z (3500715.048 1337901.221 -2633.159)       -2627.809082   -5.349957\n",
       "1  POINT Z (3500715.343 1337899.490 -2633.103)       -2627.804199   -5.298919\n",
       "2  POINT Z (3500715.546 1337897.422 -2633.086)       -2627.805908   -5.279779\n",
       "3  POINT Z (3500715.447 1337894.934 -2633.163)       -2627.819580   -5.343577\n",
       "4  POINT Z (3500715.349 1337893.253 -2633.170)       -2627.826660   -5.343577"
      ]
     },
     "execution_count": 13,
     "metadata": {},
     "output_type": "execute_result"
    }
   ],
   "source": [
    "tab[0:5] # see an example"
   ]
  },
  {
   "cell_type": "code",
   "execution_count": null,
   "metadata": {},
   "outputs": [],
   "source": []
  },
  {
   "cell_type": "code",
   "execution_count": 14,
   "metadata": {
    "lines_to_next_cell": 2
   },
   "outputs": [],
   "source": [
    "# save each horizon in the same geopackage, one per layer, so we can also open them in qgis\n",
    "for i, t in enumerate(tables):\n",
    "    t.to_file(of(\"horizons.gpkg\"), driver=\"GPKG\", layer=f\"{str(i)}\")"
   ]
  },
  {
   "cell_type": "code",
   "execution_count": null,
   "metadata": {},
   "outputs": [],
   "source": []
  }
 ],
 "metadata": {
  "jupytext": {
   "cell_metadata_filter": "all",
   "notebook_metadata_filter": "all,-language_info",
   "text_representation": {
    "extension": ".py",
    "format_name": "percent",
    "format_version": "1.3",
    "jupytext_version": "1.4.2"
   }
  },
  "kernelspec": {
   "display_name": "Python 3",
   "language": "python",
   "name": "python3"
  },
  "language_info": {
   "codemirror_mode": {
    "name": "ipython",
    "version": 3
   },
   "file_extension": ".py",
   "mimetype": "text/x-python",
   "name": "python",
   "nbconvert_exporter": "python",
   "pygments_lexer": "ipython3",
   "version": "3.8.5"
  }
 },
 "nbformat": 4,
 "nbformat_minor": 4
}
